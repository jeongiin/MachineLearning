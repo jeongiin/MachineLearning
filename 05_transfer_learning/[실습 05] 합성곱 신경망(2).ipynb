{
 "cells": [
  {
   "cell_type": "markdown",
   "metadata": {},
   "source": [
    "# 1.Setting"
   ]
  },
  {
   "cell_type": "markdown",
   "metadata": {},
   "source": [
    "## 1)Important required libraries"
   ]
  },
  {
   "cell_type": "code",
   "execution_count": null,
   "metadata": {},
   "outputs": [],
   "source": [
    "import numpy as np\n",
    "import torch\n",
    "import torch.nn as nn\n",
    "import torch.optim as optim\n",
    "import torch.nn.init as init\n",
    "import torch.utils.data as data\n",
    "import torchvision.models as models\n",
    "import torchvision.datasets as dset\n",
    "import torchvision.transforms as transforms\n",
    "from torch.utils.data import DataLoader\n",
    "from torch.autograd import Variable\n",
    "import time\n",
    "import matplotlib.pyplot as plt\n",
    "import utils"
   ]
  },
  {
   "cell_type": "code",
   "execution_count": null,
   "metadata": {},
   "outputs": [],
   "source": [
    "!pip install utils"
   ]
  },
  {
   "cell_type": "markdown",
   "metadata": {},
   "source": [
    "## 2) Hyperparameter"
   ]
  },
  {
   "cell_type": "code",
   "execution_count": null,
   "metadata": {},
   "outputs": [],
   "source": [
    "batch_size = 16\n",
    "learning_rate = 0.0001\n",
    "epoch = 20\n",
    "\n",
    "n_node = 1024 # customized last layer 의 노드 수. 64, 128, 256, 512, 1024\n",
    "dropratio = 0.5 #얼마나 드랍시킬 지 inverse keepratio\n",
    "\n",
    "imgsize = 256"
   ]
  },
  {
   "cell_type": "markdown",
   "metadata": {},
   "source": [
    "# 2. Data Loader\n",
    "## 트레이닝 데이터"
   ]
  },
  {
   "cell_type": "code",
   "execution_count": null,
   "metadata": {},
   "outputs": [],
   "source": [
    "img_dir = \"animal/train\"\n",
    "\n",
    "train_data = dset.ImageFolder(img_dir, transforms.Compose([\n",
    "    transforms.CenterCrop(imgsize*2),\n",
    "    transforms.RandomCrop(imgsize),\n",
    "    transforms.RandomHorizontalFlip(),\n",
    "    \n",
    "    transforms.Resize(imgsize),\n",
    "    transforms.ToTensor()\n",
    "]))\n",
    "print(train_data.__len__())\n",
    "train_batch = data.DataLoader(train_data, batch_size = batch_size, shuffle = True, num_workers=2)\n",
    "\n"
   ]
  },
  {
   "cell_type": "markdown",
   "metadata": {},
   "source": [
    "## 고정된 데이터 셋"
   ]
  },
  {
   "cell_type": "code",
   "execution_count": null,
   "metadata": {},
   "outputs": [],
   "source": [
    "img_dir = \"animal/val\"\n",
    "dev_data = dset.ImageFolder(img_dir, transforms.Compose([\n",
    "    \n",
    "    transforms.CenterCrop(size=imgsize),\n",
    "    transforms.Resize(imgsize),\n",
    "    transforms.ToTensor()\n",
    "]))\n",
    "\n",
    "\n",
    "dev_batch = data.DataLoader(dev_data, batch_size = batch_size, shuffle = True, num_workers=2)\n",
    "\n"
   ]
  },
  {
   "cell_type": "code",
   "execution_count": null,
   "metadata": {},
   "outputs": [],
   "source": [
    "img_dir = \"animal/test\"\n",
    "test_data = dset.ImageFolder(img_dir, transforms.Compose([\n",
    "    \n",
    "    transforms.CenterCrop(size=imgsize),\n",
    "    transforms.Resize(imgsize),\n",
    "    transforms.ToTensor()\n",
    "]))\n",
    "\n",
    "\n",
    "test_batch = data.DataLoader(test_data, batch_size = batch_size, shuffle = True, num_workers=2)\n",
    "\n"
   ]
  },
  {
   "cell_type": "code",
   "execution_count": null,
   "metadata": {},
   "outputs": [],
   "source": [
    "nclass = len(train_data.classes)\n",
    "\n",
    "print(\"#of classes : %d\" %nclass)\n",
    "print(train_data.classes)\n",
    "print(train_data.class_to_idx)\n",
    "print(train_data.__len__())\n",
    "\n",
    "print(\"Training: %d, Dev: %d, Test: %d\" %(train_data.__len__(), dev_data.__len__(), test_data.__len__()))\n"
   ]
  },
  {
   "cell_type": "code",
   "execution_count": null,
   "metadata": {},
   "outputs": [],
   "source": [
    "print(train_data.classes)\n",
    "print(dev_data.classes)\n",
    "print(test_data.classes)"
   ]
  },
  {
   "cell_type": "markdown",
   "metadata": {},
   "source": [
    "# 3. Model\n",
    "## 1) Pretrained VGG Model"
   ]
  },
  {
   "cell_type": "code",
   "execution_count": null,
   "metadata": {},
   "outputs": [],
   "source": [
    "vgg = models.vgg19(pretrained = True)\n",
    "\n",
    "for name, module in vgg.named_children():\n",
    "    print(name)\n",
    "    \n",
    "print(list(vgg.children())[0])\n",
    "print(list(vgg.children())[-1])\n",
    "\n",
    "\n",
    "print(list(vgg.children())[0][0]) #필요시"
   ]
  },
  {
   "cell_type": "markdown",
   "metadata": {},
   "source": [
    "## 2) Customized Fully Model"
   ]
  },
  {
   "cell_type": "code",
   "execution_count": null,
   "metadata": {},
   "outputs": [],
   "source": [
    "base_dim = 64\n",
    "fsize = imgsize / 32\n",
    "\n",
    "class MyVGG(nn.Module):\n",
    "    def __init__(self):\n",
    "        super(MyVGG, self).__init__()\n",
    "        self.layer0 = nn.Sequential(*list(vgg.children())[0])\n",
    "        \n",
    "        \n",
    "        \n",
    "        self.layer1 = nn.Sequential(\n",
    "            nn.Linear(8 * base_dim * int(fsize) * int(fsize) , n_node),\n",
    "            nn.BatchNorm1d(n_node),\n",
    "            nn.ReLU(),\n",
    "            nn.Dropout2d(dropratio), #0.3만큼 드랍하자\n",
    "            \n",
    "            nn.Linear(n_node, n_node),\n",
    "            nn.BatchNorm1d(n_node),\n",
    "            nn.ReLU(),\n",
    "            nn.Dropout2d(dropratio),\n",
    "            \n",
    "            nn.Linear(n_node, n_node),\n",
    "            nn.BatchNorm1d(n_node),\n",
    "            nn.ReLU(),\n",
    "            nn.Dropout2d(dropratio),\n",
    "            \n",
    "            nn.Linear(n_node, n_node),\n",
    "            nn.BatchNorm1d(n_node),\n",
    "            nn.ReLU(),\n",
    "            nn.Dropout(dropratio),\n",
    "            \n",
    "            nn.Linear(n_node, nclass),\n",
    "            \n",
    "        )\n",
    "        \n",
    "        #weight initalization\n",
    "        for m in self.layer1.modules() :\n",
    "            #print(m)\n",
    "            if isinstance(m, nn.Conv2d):\n",
    "                init.kaiming_normal(m.weight.data)\n",
    "                m.bias.data.fill_(0)\n",
    "                \n",
    "            if isinstance(m, nn.Linear):\n",
    "                init.kaiming_normal(m.weight.data)\n",
    "                m.bias.data.fill_(0)    \n",
    "                \n",
    "    def forward(self, x):\n",
    "        # layer 0의 사이즈를 무식하게 프린트하여 알아낼 수 있음(batchsize, x,x,x)\n",
    "        # print(x.size())\n",
    "        out = self.layer0(x)\n",
    "        print(out.size())\n",
    "        out = out.view(out.size(0),-1)\n",
    "        out = self.layer1(out)\n",
    "        return out\n",
    "            \n",
    "    \n",
    "            "
   ]
  },
  {
   "cell_type": "markdown",
   "metadata": {},
   "source": [
    "## 3) Model on GPU"
   ]
  },
  {
   "cell_type": "code",
   "execution_count": null,
   "metadata": {},
   "outputs": [],
   "source": [
    "model = MyVGG() #.cuda()\n",
    "\n",
    "\n",
    "for params in model.layer0.parameters():\n",
    "    params.required_grad = False\n",
    "\n",
    "\n",
    "for params in model.layer1.parameters():\n",
    "    params.required_grad = True\n"
   ]
  },
  {
   "cell_type": "code",
   "execution_count": null,
   "metadata": {},
   "outputs": [],
   "source": [
    "for name in model.children():\n",
    "    print(name)"
   ]
  },
  {
   "cell_type": "markdown",
   "metadata": {},
   "source": [
    "# 4. Optimizer & Loss"
   ]
  },
  {
   "cell_type": "code",
   "execution_count": null,
   "metadata": {},
   "outputs": [],
   "source": [
    "loss_func = nn.CrossEntropyLoss()\n",
    "optimizer = optim.Adam(model.layer1.parameters(), lr = learning_rate)"
   ]
  },
  {
   "cell_type": "markdown",
   "metadata": {},
   "source": [
    "# 5. Train"
   ]
  },
  {
   "cell_type": "code",
   "execution_count": null,
   "metadata": {},
   "outputs": [],
   "source": [
    "import utils\n",
    "total_time = 0\n",
    "disp_step = 10\n",
    "\n",
    "to_train = True\n",
    "\n",
    "if (to_train == False):\n",
    "    netname = './nets/catdog+vgg_10.pkl'\n",
    "    model = torch.load(netname)\n",
    "    \n",
    "else :\n",
    "    print(\"3 layer, n_node : %d, dropratio: %.2f\" %(n_node, dropratio))\n",
    "    model.eval() #evaluation(test) mode로 바꾸기 -> dropout, batch normalization\n",
    "    train_corr = utils.ComputeCorr(train_batch, model)\n",
    "    dev_corr = utils.ComputeCorr(train_batch, model)\n",
    "    test_corr = utils.ComputeCorr(train_batch, model)\n",
    "    \n",
    "    print(\"Correct of train: %.2f, dev: %.2f, test: %.2f\" %(train_corr, dev_corr, test_corr))\n",
    "    model.train()\n",
    "    \n",
    "    \n",
    "    netname = './nets/catdog_vgg19' ########################주소\n",
    "    \n",
    "    #graph 그리기\n",
    "    x_epoch = []\n",
    "    y_train_err = []\n",
    "    y_dev_err = []\n",
    "    t_test_err = []\n",
    "    \n",
    "    x_epoch.append()\n",
    "    y_train_err.append(100.0-train_corr)\n",
    "    y_dev_err.append(100.0-dev_corr)\n",
    "    y_test_err.append(100.0-test_corr)\n",
    "    \n",
    "    # 학습을 재시작 한다면\n",
    "    # netname = '../nets/media_pre_vgg19.pkl'\n",
    "    # model = torch.load(netname)\n",
    "    \n",
    "    # 파라미터 학습 여부 설정\n",
    "    # for params in model.layer0.parameters():\n",
    "#      params.required_grad = False\n",
    "\n",
    "\n",
    "#    for params in model.layer1.parameters():\n",
    "#      params.required_grad = True\n",
    "#    for i in range(34,epoch):\n",
    "\n",
    "\n",
    "    # 재시작하지 않는다면\n",
    "    for i in reange(epoch):\n",
    "        start_time = time.time()\n",
    "        print(\"%d..\"%i),\n",
    "        for img,label in train_batch:\n",
    "            img = Variable(img)\n",
    "            label = Variable(label)\n",
    "            \n",
    "            optimizer.zero_grad()\n",
    "            output = model(img)\n",
    "            loss = loss_func(output, label)\n",
    "            loss.backward()\n",
    "            optimizer.step()\n",
    "            \n",
    "            \n",
    "        end_time = time.time()\n",
    "        duration = end_time-start_time\n",
    "        total_time += duration\n",
    "        \n",
    "        if (i%disp_step ==0) or (i == epoch -1):\n",
    "            torch.save(model, netname+'_%d.pkl'%i, )\n",
    "            print(\"\\n[%d/%d] loss: %.3f,\" %(i, epoch, (loss.cpu()).data.numpy())),\n",
    "            \n",
    "            #evaluation(test) mode로 바꾸기 -> dropout, batch normalization에 영향을 줌\n",
    "            model.eval()\n",
    "            \n",
    "            #train, dev, train accr\n",
    "            train_corr = utils.ComputeCorr(train_batch, model)\n",
    "            dev_corr = utils.ComputeCorr(dev_batch, model)\n",
    "            test_corr = utils.ComputeCorr(dev_batch, model)\n",
    "            \n",
    "            print(\"Correct of train: %.2f, dev: %.2f, test: %.2f\" %(train_corr, dev_corr, test_corr))\n",
    "            model.train()\n",
    "            print(\"time: %.2f sec...\" %(total_time))\n",
    "            \n",
    "            # graph 그리기\n",
    "            x_epoch.append(i+1)\n",
    "            y_train_err.append(100.0-train_corr)\n",
    "            y_dev_err.append(100.0-dev_corr)\n",
    "            y_test_err.append(100.0-test_corr)\n",
    "            \n",
    "        print(\"Total time: %.2f sec\" %total_time)\n",
    "            \n",
    "    "
   ]
  },
  {
   "cell_type": "code",
   "execution_count": null,
   "metadata": {},
   "outputs": [],
   "source": [
    "# epoch - err curve\n",
    "if (to_train):\n",
    "    plt.plot(x_epoch, y_train_err, color = 'black', label = 'train err', linestyle = '--')\n",
    "    plt.plot(x_epoch, y_dev_err, color = 'red', label = 'dev err')\n",
    "    plt.plot(x_epoch, y_test_err, color='blue', label = 'test err')\n",
    "    \n",
    "    plt.xlabel('epoch')\n",
    "    plt.ylabel('err')\n",
    "    plt.title('epoch & err graph')\n",
    "    plt.legend(loc=\"upper right\")\n",
    "    plt.show()\n",
    "    "
   ]
  },
  {
   "cell_type": "markdown",
   "metadata": {},
   "source": [
    "# 6. Evaluation for dev & test data"
   ]
  },
  {
   "cell_type": "code",
   "execution_count": null,
   "metadata": {},
   "outputs": [],
   "source": [
    "model.eval()\n",
    "utils.EvaluateClaaifier(dev_batch, model, dev_data,classes, batch)"
   ]
  },
  {
   "cell_type": "code",
   "execution_count": null,
   "metadata": {},
   "outputs": [],
   "source": []
  },
  {
   "cell_type": "code",
   "execution_count": null,
   "metadata": {},
   "outputs": [],
   "source": []
  },
  {
   "cell_type": "code",
   "execution_count": null,
   "metadata": {},
   "outputs": [],
   "source": []
  }
 ],
 "metadata": {
  "kernelspec": {
   "display_name": "conda_pytorch_p36",
   "language": "python",
   "name": "conda_pytorch_p36"
  },
  "language_info": {
   "codemirror_mode": {
    "name": "ipython",
    "version": 3
   },
   "file_extension": ".py",
   "mimetype": "text/x-python",
   "name": "python",
   "nbconvert_exporter": "python",
   "pygments_lexer": "ipython3",
   "version": "3.6.5"
  }
 },
 "nbformat": 4,
 "nbformat_minor": 4
}
